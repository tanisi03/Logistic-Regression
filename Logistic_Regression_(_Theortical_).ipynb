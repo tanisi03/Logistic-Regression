{
  "nbformat": 4,
  "nbformat_minor": 0,
  "metadata": {
    "colab": {
      "provenance": []
    },
    "kernelspec": {
      "name": "python3",
      "display_name": "Python 3"
    },
    "language_info": {
      "name": "python"
    }
  },
  "cells": [
    {
      "cell_type": "markdown",
      "source": [
        "Theoretical"
      ],
      "metadata": {
        "id": "QsBRr435FaNH"
      }
    },
    {
      "cell_type": "markdown",
      "source": [
        "Q1. What is Logistic Regression, and how does it differ from Linear Regression?"
      ],
      "metadata": {
        "id": "Z4qg4yMSFbD7"
      }
    },
    {
      "cell_type": "markdown",
      "source": [
        "Ans. Linear Regression is used for predicting continuous values (e.g., prices, temperatures) with a linear relationship between input features and the output.\n",
        "\n",
        "Logistic Regression is used for classification tasks (e.g., spam vs. not spam) and outputs probabilities between 0 and 1, using the logistic (sigmoid) function.\n",
        "\n",
        "Key difference: Linear Regression predicts continuous values, while Logistic Regression predicts probabilities for categorical outcomes."
      ],
      "metadata": {
        "id": "fxsOETgzFfN8"
      }
    },
    {
      "cell_type": "markdown",
      "source": [
        "Q2. What is the mathematical equation of Logistic Regression?"
      ],
      "metadata": {
        "id": "yfCtcWbIF380"
      }
    },
    {
      "cell_type": "markdown",
      "source": [
        "Ans. The mathematical equation for Logistic Regression is:\n",
        "\n",
        "𝑃 ( 𝑌 = 1 ∣ 𝑋 ) = 1 1 + 𝑒 − ( 𝛽 0 + 𝛽 1 𝑋 1 + 𝛽 2 𝑋 2 + . . . + 𝛽 𝑛 𝑋 𝑛 ) P(Y=1∣X)= 1+e −(β 0​+β 1​X 1​+β 2​X 2​+...+β n​X n​)\n",
        "\n",
        "1​\n",
        "\n",
        "Where:\n",
        "\n",
        "𝑃 ( 𝑌 = 1 ∣ 𝑋 ) P(Y=1∣X) is the probability of the outcome being 1 (positive class), 𝛽 0 , 𝛽 1 , . . . 𝛽 𝑛 β 0​,β 1​,...β n​are the model coefficients, 𝑋 1 , 𝑋 2 , . . . 𝑋 𝑛 X 1​,X 2​,...X n​are the input features, 𝑒 e is the base of the natural logarithm (Euler's number). This equation maps the linear combination of inputs to a probability between 0 and 1 using the sigmoid function."
      ],
      "metadata": {
        "id": "dR4nRDtiHFzE"
      }
    },
    {
      "cell_type": "markdown",
      "source": [
        "Q3. Why do we use the Sigmoid function in Logistic Regression?"
      ],
      "metadata": {
        "id": "Fm4JAm59GWyb"
      }
    },
    {
      "cell_type": "markdown",
      "source": [
        "Ans. The sigmoid function is used in Logistic Regression because it maps any real-valued input to a probability between 0 and 1. This makes it ideal for classification tasks, as it helps in predicting the likelihood of a sample belonging to a particular class (e.g., class 1 or class 0). The function’s \"S\" shaped curve ensures smooth transitions between the two classes and outputs values suitable for decision-making (like thresholding at 0.5)."
      ],
      "metadata": {
        "id": "cZd8ZIL_GYLn"
      }
    },
    {
      "cell_type": "markdown",
      "source": [
        "Q4. What is the cost function of Logistic Regression?"
      ],
      "metadata": {
        "id": "NkXwHaRwGe-2"
      }
    },
    {
      "cell_type": "markdown",
      "source": [
        "Ans. The cost function of Logistic Regression is the Log Loss (or Binary Cross-Entropy) and is given by:\n",
        "\n",
        "𝐽 ( 𝛽 ) = − 1 𝑚 ∑ 𝑖 = 1 𝑚 [ 𝑦 ( 𝑖 ) log ⁡ ( ℎ 𝛽 ( 𝑥 ( 𝑖 ) ) ) + ( 1 − 𝑦 ( 𝑖 ) ) log ⁡ ( 1 − ℎ 𝛽 ( 𝑥 ( 𝑖 ) ) ) ] J(β)=− m 1​\n",
        "\n",
        "i=1 ∑ m​[y (i) log(h β​(x (i) ))+(1−y (i) )log(1−h β​(x (i) ))]\n",
        "\n",
        "Where:\n",
        "\n",
        "𝑚 m is the number of training examples, 𝑦 ( 𝑖 ) y (i) is the actual label (0 or 1) for the 𝑖 i-th example, ℎ 𝛽 ( 𝑥 ( 𝑖 ) ) h β​(x (i) ) is the predicted probability for the 𝑖 i-th example using the sigmoid function, log ⁡ log is the natural logarithm. This function measures how well the model's predictions match the actual labels, with the goal of minimizing the cost to improve accuracy.\n",
        "\n"
      ],
      "metadata": {
        "id": "xDv2Ywy3GrVN"
      }
    },
    {
      "cell_type": "markdown",
      "source": [
        "Q5. What is Regularization in Logistic Regression? Why is it needed?\n"
      ],
      "metadata": {
        "id": "jUG1UymaG9o3"
      }
    },
    {
      "cell_type": "markdown",
      "source": [
        "Ans. Regularization in Logistic Regression is a technique used to prevent overfitting by adding a penalty term to the cost function. It discourages overly complex models that might fit noise in the training data.\n",
        "\n",
        "There are two common types of regularization:\n",
        "\n",
        "1. L2 Regularization (Ridge): Adds the sum of squared coefficients ( 𝜆 ∑ 𝑗 = 1 𝑛 𝛽 𝑗 2 λ∑ j=1 n​β j 2​) to the cost function.\n",
        "\n",
        "2. L1 Regularization (Lasso): Adds the sum of absolute values of the coefficients ( 𝜆 ∑ 𝑗 = 1 𝑛 ∣ 𝛽 𝑗 ∣ λ∑ j=1 n​∣β j​∣) to the cost function.\n",
        "\n",
        "Why is it needed?\n",
        "\n",
        "1. Prevents overfitting by controlling the model complexity.\n",
        "2. Helps in improving generalization to new, unseen data."
      ],
      "metadata": {
        "id": "M0efq9JNHC3B"
      }
    },
    {
      "cell_type": "markdown",
      "source": [
        "Q6. Explain the difference between Lasso, Ridge, and Elastic Net regression."
      ],
      "metadata": {
        "id": "Y9eQWgRLIK1S"
      }
    },
    {
      "cell_type": "markdown",
      "source": [
        "Ans.  1. Ridge Regression (L2): Adds a penalty based on the squared coefficients, shrinking them but not setting them to zero. Useful when all features are important.\n",
        "\n",
        " 2. Lasso Regression (L1): Adds a penalty based on the absolute values of coefficients, shrinking some coefficients to zero, effectively performing feature selection. Useful for identifying important features.\n",
        "\n",
        "3.  Elastic Net: Combines both Lasso and Ridge penalties, offering a balance between feature selection and handling correlated features. Useful when you have many irrelevant or correlated predictors."
      ],
      "metadata": {
        "id": "7HlikhtjIOf4"
      }
    },
    {
      "cell_type": "markdown",
      "source": [
        "Q7. When should we use Elastic Net instead of Lasso or Ridge?"
      ],
      "metadata": {
        "id": "sI_N-dq6Jvvh"
      }
    },
    {
      "cell_type": "markdown",
      "source": [
        "Ans. Use Elastic Net when:\n",
        "\n",
        "1. You have many correlated features (Ridge can handle correlation, Lasso struggles).\n",
        "\n",
        "2. You want a balance between feature selection (Lasso) and regularization (Ridge).\n",
        "\n",
        "3. You’re unsure whether Lasso or Ridge is more appropriate for your data, as Elastic Net combines both approaches."
      ],
      "metadata": {
        "id": "und_8G8YJ1fx"
      }
    },
    {
      "cell_type": "markdown",
      "source": [
        "Q8. What is the impact of the regularization parameter (λ) in Logistic Regression ?"
      ],
      "metadata": {
        "id": "M9veeuWsKMcA"
      }
    },
    {
      "cell_type": "markdown",
      "source": [
        "Ans. The regularization parameter λ controls the strength of the regularization in Logistic Regression:\n",
        "\n",
        "1. Small λ: Less regularization, allowing the model to fit the training data more closely, which could lead to overfitting.\n",
        "\n",
        "2. Large λ: Stronger regularization, which shrinks the coefficients more, potentially underfitting the model by making it too simple.\n",
        "\n",
        "Choosing the right λ helps balance model complexity and generalization, preventing overfitting while still capturing the essential patterns in the data."
      ],
      "metadata": {
        "id": "t_OqvDIIKS-Q"
      }
    },
    {
      "cell_type": "markdown",
      "source": [
        "Q9. What are the key assumptions of Logistic Regression?"
      ],
      "metadata": {
        "id": "ycsN2tlFKqqC"
      }
    },
    {
      "cell_type": "markdown",
      "source": [
        "Ans. The key assumptions of Logistic Regression are:\n",
        "\n",
        "1. Linearity of Log-Odds: The relationship between the independent variables and the log-odds of the outcome is linear.\n",
        "\n",
        "2. Independence of Errors: The observations are independent of each other.\n",
        "\n",
        "3. No Multicollinearity: The independent variables should not be highly correlated with each other.\n",
        "\n",
        "4. Binary or Multinomial Outcome: The dependent variable should be categorical, typically binary (0 or 1), but it can also handle multi-class problems.\n",
        "\n",
        "These assumptions help the model produce reliable and interpretable results.\n",
        "\n",
        "\n",
        "\n"
      ],
      "metadata": {
        "id": "br8fI6DfJWoZ"
      }
    },
    {
      "cell_type": "markdown",
      "source": [
        "Q10. What are some alternatives to Logistic Regression for classification tasks ?"
      ],
      "metadata": {
        "id": "37ymMy60Lape"
      }
    },
    {
      "cell_type": "markdown",
      "source": [
        "Ans. Some alternatives to Logistic Regression for classification tasks include:\n",
        "\n",
        "1. Decision Trees: Model data using tree-like structures for classification based on feature values.\n",
        "2. Random Forests: An ensemble of decision trees that improve classification by averaging multiple models.\n",
        "3. Support Vector Machines (SVM): Finds the optimal hyperplane to separate different classes.\n",
        "4. K-Nearest Neighbors (KNN): Classifies based on the majority class of the nearest neighbors.\n",
        "5. Naive Bayes: A probabilistic classifier based on Bayes' theorem, useful for text classification.\n",
        "6. Neural Networks: Complex models that learn hierarchical patterns in data, effective for large datasets.\n",
        "\n",
        "Each method has its strengths, depending on the complexity and characteristics of the dataset."
      ],
      "metadata": {
        "id": "PTQqAuZpLkWR"
      }
    },
    {
      "cell_type": "markdown",
      "source": [
        "Q11. What are Classification Evaluation Metrics?"
      ],
      "metadata": {
        "id": "9sIWEb8uL9sc"
      }
    },
    {
      "cell_type": "markdown",
      "source": [
        "Ans. Classification Evaluation Metrics are used to assess the performance of a classification model. Key metrics include:\n",
        "\n",
        "1. Accuracy: The proportion of correct predictions (total correct / total predictions).\n",
        "2. Precision: The proportion of true positives among predicted positives ( 𝑇 𝑃 𝑇 𝑃\n",
        "+ 𝐹 𝑃 TP+FP TP​).\n",
        "3. Recall (Sensitivity): The proportion of true positives among actual positives ( 𝑇 𝑃 𝑇 𝑃\n",
        "+ 𝐹 𝑁 TP+FN TP​).\n",
        "4.  F1-Score: The harmonic mean of precision and recall, balancing both ( 2 × 𝑃 𝑟 𝑒 𝑐 𝑖 𝑠 𝑖 𝑜 𝑛 × 𝑅 𝑒 𝑐 𝑎 𝑙 𝑙 𝑃 𝑟 𝑒 𝑐 𝑖 𝑠 𝑖 𝑜 𝑛\n",
        "+ 𝑅 𝑒 𝑐 𝑎 𝑙 𝑙 2× Precision+Recall Precision×Recall​).\n",
        "5. ROC-AUC: The area under the Receiver Operating Characteristic curve, showing the trade-off between true positive rate and false positive rate.\n",
        "6. Confusion Matrix: A table showing the counts of true positives (TP), false positives (FP), true negatives (TN), and false negatives (FN).\n",
        "\n",
        "These metrics help evaluate model performance from different perspectives, depending on the task."
      ],
      "metadata": {
        "id": "GdgMfWVfMPTm"
      }
    },
    {
      "cell_type": "markdown",
      "source": [
        "Q12.  How does class imbalance affect Logistic Regression?"
      ],
      "metadata": {
        "id": "Uk7YupZjM-Rl"
      }
    },
    {
      "cell_type": "markdown",
      "source": [
        "Ans. Class imbalance in Logistic Regression occurs when one class is significantly more frequent than the other. This can lead to:\n",
        "\n",
        "1. Bias Toward Majority Class: The model may predict the majority class most of the time, reducing accuracy for the minority class.\n",
        "2. Poor Model Performance: Metrics like accuracy can be misleading, as the model may perform well on the majority class but poorly on the minority class.\n",
        "3. Underestimating Minority Class: The model may fail to capture important patterns in the minority class, leading to low recall for that class.\n",
        "\n",
        "To address this, techniques like resampling, class weights, or using metrics like precision, recall, and F1-score can help"
      ],
      "metadata": {
        "id": "zkxHI7GGNDCU"
      }
    },
    {
      "cell_type": "markdown",
      "source": [
        "Q13. What is Hyperparameter Tuning in Logistic Regression?"
      ],
      "metadata": {
        "id": "ZXN4XFP_NSyx"
      }
    },
    {
      "cell_type": "markdown",
      "source": [
        "Ans. Hyperparameter tuning in Logistic Regression involves adjusting parameters that control the model's behavior to improve its performance. Key hyperparameters include:\n",
        "\n",
        "1. Regularization Strength (λ): Controls the amount of regularization to prevent overfitting. A higher value increases regularization.\n",
        "2. Solver: Algorithm used to optimize the model (e.g., \"liblinear,\" \"saga,\" \"newton-cg\").\n",
        "3. Maximum Iterations: Number of iterations the algorithm runs during optimization.\n",
        "4. Class Weights: Adjusts the weight of each class to handle imbalanced datasets\n",
        "\n",
        "Tuning these hyperparameters helps find the best model configuration for accurate predictions. This can be done through methods like Grid Search or Random Search"
      ],
      "metadata": {
        "id": "aXO8_oBJNZ1O"
      }
    },
    {
      "cell_type": "markdown",
      "source": [
        "Q14. What are different solvers in Logistic Regression? Which one should be used?"
      ],
      "metadata": {
        "id": "FTBFbZeTNuLb"
      }
    },
    {
      "cell_type": "markdown",
      "source": [
        "Ans. In Logistic Regression, different solvers are used to optimize the cost function:\n",
        "\n",
        "1. 'liblinear': Suitable for small datasets and works well with L1 regularization (Lasso). It uses a coordinate descent algorithm.\n",
        "2. 'newton-cg': Suitable for larger datasets and works well for L2 regularization (Ridge). It uses Newton's method for optimization\n",
        "3. 'lbfgs': An approximation of Newton's method, efficient for large datasets and handles L2 regularization.\n",
        "4. 'saga': A variant of stochastic gradient descent that handles both L1 and L2 regularization, and is efficient for large datasets.\n",
        "\n",
        "Which solver to use?\n",
        "\n",
        "• For small datasets, 'liblinear' is a good choice.\n",
        "• For large datasets, 'newton-cg', 'lbfgs', or 'saga' are better.\n",
        "• Use 'saga' if you need both L1 and L2 regularization.\n"
      ],
      "metadata": {
        "id": "oAWY96x0NyFy"
      }
    },
    {
      "cell_type": "markdown",
      "source": [
        "Q15. How is Logistic Regression extended for multiclass classification?"
      ],
      "metadata": {
        "id": "w8cS0NkFOfkd"
      }
    },
    {
      "cell_type": "markdown",
      "source": [
        "Ans. Logistic Regression is extended for multiclass classification using two main approaches:\n",
        "\n",
        "1. One-vs-Rest (OvR): For each class, a separate binary classifier is trained to distinguish that class from all other classes. The final prediction is the class with the highest probability.\n",
        "2. Softmax Regression (Multinomial Logistic Regression): Generalizes logistic regression to multiple classes by using the softmax function instead of the sigmoid function. It outputs a probability distribution over all classes, and the class with the highest probability is selected.\n",
        "\n",
        "Softmax is typically preferred for multiclass problems as it directly handles all classes in one model."
      ],
      "metadata": {
        "id": "NOjfPt_yOkTS"
      }
    },
    {
      "cell_type": "markdown",
      "source": [
        "Q16. What are the advantages and disadvantages of Logistic Regression?"
      ],
      "metadata": {
        "id": "5k-bcIVsOyAG"
      }
    },
    {
      "cell_type": "markdown",
      "source": [
        "Ans. Advantages of Logistic Regression:\n",
        "\n",
        "1. Simple and Interpretable: Easy to understand and interpret, with clear probabilities for classification.\n",
        "2. Efficient: Computationally efficient and works well for small to medium-sized datasets.\n",
        "3. Works well for Linearly Separable Data: Performs well when the classes are linearly separable.\n",
        "4. Probability Output: Provides probability estimates for class membership.\n",
        "\n",
        "Disadvantages of Logistic Regression:\n",
        "\n",
        "1. Limited to Linear Boundaries: Struggles with complex relationships or non-linear decision boundaries.\n",
        "2. Sensitive to Outliers: Outliers can significantly affect the model's performance.\n",
        "3. Assumes Independence of Features: Assumes that the input features are independent, which may not always be true.\n",
        "4. Prone to Underfitting: Can underperform when the model is too simple for complex data."
      ],
      "metadata": {
        "id": "H5vk2CWsO4Z-"
      }
    },
    {
      "cell_type": "markdown",
      "source": [
        "Q17. What are some use cases of Logistic Regression?"
      ],
      "metadata": {
        "id": "OlF-Bm9hPXV9"
      }
    },
    {
      "cell_type": "markdown",
      "source": [
        "Ans. Some common use cases of Logistic Regression include:\n",
        "\n",
        "1. Spam Detection: Classifying emails as spam or not spam based on features like content and sender.\n",
        "2. Customer Churn Prediction: Predicting whether a customer will leave a service based on usage patterns.\n",
        "3. Credit Scoring: Predicting whether a loan applicant will default on a loan based on financial history.\n",
        "4. Medical Diagnosis: Classifying whether a patient has a certain disease (e.g., cancer or diabetes) based on medical data.\n",
        "5. Marketing Campaigns: Predicting whether a customer will respond to a promotional offer based on demographics and past behavior.\n",
        "\n",
        "Logistic Regression is widely used in binary classification problems where the outcome is categorical (e.g., yes/no, 0/1)."
      ],
      "metadata": {
        "id": "4h_HLiOvPcao"
      }
    },
    {
      "cell_type": "markdown",
      "source": [
        "Q18. What is the difference between Softmax Regression and Logistic Regression?"
      ],
      "metadata": {
        "id": "EHRavUOGPzxP"
      }
    },
    {
      "cell_type": "markdown",
      "source": [
        "Ans. The key difference between Softmax Regression and Logistic Regression lies in the type of classification problem they address:\n",
        "\n",
        "• Logistic Regression is used for binary classification (two classes), where the output is a probability for one class (0 or 1).\n",
        "\n",
        "• Softmax Regression (or Multinomial Logistic Regression) is an extension of logistic regression for multiclass classification (more than two classes). It uses the softmax function to compute probabilities for multiple classes, and the class with the highest probability is chosen.\n",
        "\n",
        "In short, Logistic Regression is for binary classification, and Softmax Regression is for multiclass classification."
      ],
      "metadata": {
        "id": "L9G1ibYRP30M"
      }
    },
    {
      "cell_type": "markdown",
      "source": [
        "Q19. How do we choose between One-vs-Rest (OvR) and Softmax for multiclass classification?"
      ],
      "metadata": {
        "id": "Rg5Va1bGQUIh"
      }
    },
    {
      "cell_type": "markdown",
      "source": [
        "Ans. Choose between One-vs-Rest (OvR) and Softmax for multiclass classification based on:\n",
        "\n",
        "• One-vs-Rest (OvR): Best for smaller datasets or when you want to train multiple binary classifiers. It is simpler and can handle more classes, but may not work as well when classes are not well-separated.\n",
        "\n",
        "• Softmax: Preferred for direct multiclass problems where you want a single model to handle all classes simultaneously. It is better when classes are mutually exclusive and helps avoid the complexity of multiple binary classifiers.\n",
        "\n",
        "Softmax is generally the better choice for pure multiclass problems, while OvR can be useful when flexibility and simplicity are needed."
      ],
      "metadata": {
        "id": "6n_FMS4dQYHc"
      }
    },
    {
      "cell_type": "markdown",
      "source": [
        "Q20.  How do we interpret coefficients in Logistic Regression ?"
      ],
      "metadata": {
        "id": "oI60OsIIQubu"
      }
    },
    {
      "cell_type": "markdown",
      "source": [
        "Ans.  In Logistic Regression, the coefficients ( 𝛽 β) represent the relationship between each feature and the log-odds of the outcome:\n",
        "\n",
        "• Interpretation of Coefficients: Each coefficient ( 𝛽 𝑗 β j​) indicates the change in the log-odds of the target variable for a one-unit increase in the corresponding feature ( 𝑋 𝑗 X j​), holding other features constant.\n",
        "\n",
        "•  Odds Ratio: The exponentiated coefficient ( 𝑒 𝛽 𝑗 e β j​\n",
        "\n",
        ") gives the odds ratio. It tells you how the odds of the target class change with a one-unit increase in the feature.\n",
        "\n",
        "• If 𝑒 𝛽 𝑗\n",
        "\n",
        "1 e β j​\n",
        "\n",
        "1, the odds of the outcome increase as the feature increases.\n",
        "\n",
        "•  If 𝑒 𝛽 𝑗 < 1 e β j​\n",
        "\n",
        "<1, the odds decrease as the feature increases.\n",
        "\n",
        "In summary, the coefficient shows the direction and strength of the relationship between each feature and the target, while the odds ratio provides a more intuitive understanding of the impact."
      ],
      "metadata": {
        "id": "gcqzAEN7Q4Yw"
      }
    }
  ]
}